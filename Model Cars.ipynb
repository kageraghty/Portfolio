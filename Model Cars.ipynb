{
 "cells": [
  {
   "cell_type": "markdown",
   "id": "ab0a1b15",
   "metadata": {},
   "source": [
    "## Introduction\n",
    "The data involves a scale model car company that operates in over 20 countries. My goal is to assist them in managing their stock, improving their marketing strategy, and detemining a budget for acquiring new customers.\n",
    "\n",
    "To achieve this, we will address several key questions that will enable the company to make informed, data-driven decisions:\n",
    "\n",
    "Question 1: Which products should we order more of or less of? <br>\n",
    "Question 2: How should we tailor marketing and communication strategies to customer behaviors?<br>\n",
    "Question 3: How much can we spend on acquiring new customers?"
   ]
  },
  {
   "cell_type": "code",
   "execution_count": 313,
   "id": "3ed8aa3b",
   "metadata": {},
   "outputs": [],
   "source": [
    "import sqlite3 \n",
    "import pandas as pd\n",
    "import numpy as np"
   ]
  },
  {
   "cell_type": "code",
   "execution_count": 314,
   "id": "8f924bfb",
   "metadata": {},
   "outputs": [],
   "source": [
    "%%capture\n",
    "%load_ext sqlite3\n",
    "%sql sqlite:///stores.db"
   ]
  },
  {
   "cell_type": "markdown",
   "id": "2a6a5ef1",
   "metadata": {},
   "source": [
    "### Description of Data\n",
    "Customers: customer data <br>\n",
    "Employees: all employee information <br>\n",
    "Offices: sales office information <br>\n",
    "Orders: customers' sales orders <br>\n",
    "OrderDetails: sales order line for each sales order <br>\n",
    "Payments: customers' payment records <br>\n",
    "Products: a list of scale model cars <br>\n",
    "ProductLines: a list of product line categories"
   ]
  },
  {
   "cell_type": "markdown",
   "id": "da48e54c",
   "metadata": {},
   "source": [
    "### Exploring the data\n",
    "The following query shows a table combining the names of each table, the attribute count, and the total number of rows in each table. I'll also print the first three rows of each individual table to examine the data."
   ]
  },
  {
   "cell_type": "code",
   "execution_count": 315,
   "id": "96d4c4eb",
   "metadata": {},
   "outputs": [
    {
     "name": "stdout",
     "output_type": "stream",
     "text": [
      "     table_name  number_of_attributes  row_count\n",
      "0     Customers                    13        122\n",
      "1      Products                     9        110\n",
      "2  ProductLines                     4        122\n",
      "3        Orders                     7        326\n",
      "4  OrderDetails                     5       2996\n",
      "5      Payments                     4        273\n",
      "6     Employees                     8         23\n",
      "7       Offices                     9          7\n"
     ]
    }
   ],
   "source": [
    "conn = sqlite3.connect('stores.db')\n",
    "query_table = '''\n",
    "    SELECT 'Customers' AS table_name, \n",
    "           (SELECT COUNT(*)\n",
    "              FROM pragma_table_info('customers')) AS number_of_attributes, \n",
    "           (SELECT COUNT(*)\n",
    "              FROM customers) AS row_count \n",
    "    UNION ALL\n",
    "    SELECT 'Products' AS table_name, \n",
    "           (SELECT COUNT(*)\n",
    "              FROM pragma_table_info('products')) AS number_of_attributes, \n",
    "           (SELECT COUNT(*)\n",
    "              FROM products) AS row_count \n",
    "    UNION ALL\n",
    "    SELECT 'ProductLines' AS table_name, \n",
    "           (SELECT COUNT(*)\n",
    "              FROM pragma_table_info('productlines')) AS number_of_attributes, \n",
    "           (SELECT COUNT(*)\n",
    "              FROM customers) AS row_count \n",
    "    UNION ALL\n",
    "    SELECT 'Orders' AS table_name, \n",
    "           (SELECT COUNT(*)\n",
    "              FROM pragma_table_info('orders')) AS number_of_attributes, \n",
    "           (SELECT COUNT(*)\n",
    "              FROM orders) AS row_count \n",
    "    UNION ALL\n",
    "    SELECT 'OrderDetails' AS table_name, \n",
    "           (SELECT COUNT(*)\n",
    "              FROM pragma_table_info('orderdetails')) AS number_of_attributes, \n",
    "           (SELECT COUNT(*)\n",
    "              FROM orderdetails) AS row_count \n",
    "    UNION ALL\n",
    "    SELECT 'Payments' AS table_name, \n",
    "           (SELECT COUNT(*)\n",
    "              FROM pragma_table_info('payments')) AS number_of_attributes, \n",
    "           (SELECT COUNT(*)\n",
    "              FROM payments) AS row_count \n",
    "    UNION ALL\n",
    "    SELECT 'Employees' AS table_name, \n",
    "           (SELECT COUNT(*)\n",
    "              FROM pragma_table_info('employees')) AS number_of_attributes, \n",
    "           (SELECT COUNT(*)\n",
    "              FROM employees) AS row_count \n",
    "    UNION ALL\n",
    "    SELECT 'Offices' AS table_name, \n",
    "           (SELECT COUNT(*)\n",
    "              FROM pragma_table_info('offices')) AS number_of_attributes, \n",
    "           (SELECT COUNT(*)\n",
    "              FROM offices) AS row_count\n",
    "'''\n",
    "        \n",
    "data_table = pd.read_sql_query(query_table, conn)\n",
    "print(data_table);"
   ]
  },
  {
   "cell_type": "code",
   "execution_count": 316,
   "id": "acf32081",
   "metadata": {},
   "outputs": [
    {
     "name": "stdout",
     "output_type": "stream",
     "text": [
      "   customerNumber                customerName contactLastName  \\\n",
      "0             103           Atelier graphique         Schmitt   \n",
      "1             112          Signal Gift Stores            King   \n",
      "2             114  Australian Collectors, Co.        Ferguson   \n",
      "\n",
      "  contactFirstName         phone       addressLine1 addressLine2       city  \\\n",
      "0          Carine     40.32.2555     54, rue Royale         None     Nantes   \n",
      "1             Jean    7025551838    8489 Strong St.         None  Las Vegas   \n",
      "2            Peter  03 9520 4555  636 St Kilda Road      Level 3  Melbourne   \n",
      "\n",
      "      state postalCode    country  salesRepEmployeeNumber  creditLimit  \n",
      "0      None      44000     France                    1370        21000  \n",
      "1        NV      83030        USA                    1166        71800  \n",
      "2  Victoria       3004  Australia                    1611       117300  \n"
     ]
    }
   ],
   "source": [
    "query_customers = '''\n",
    "    SELECT *\n",
    "      FROM Customers\n",
    "     LIMIT 3\n",
    "'''\n",
    "data_customers = pd.read_sql_query(query_customers, conn)\n",
    "print(data_customers)"
   ]
  },
  {
   "cell_type": "code",
   "execution_count": 317,
   "id": "f2e5a99e",
   "metadata": {},
   "outputs": [
    {
     "name": "stdout",
     "output_type": "stream",
     "text": [
      "  productCode                            productName   productLine  \\\n",
      "0    S10_1678  1969 Harley Davidson Ultimate Chopper   Motorcycles   \n",
      "1    S10_1949               1952 Alpine Renault 1300  Classic Cars   \n",
      "2    S10_2016                  1996 Moto Guzzi 1100i   Motorcycles   \n",
      "\n",
      "  productScale             productVendor  \\\n",
      "0         1:10           Min Lin Diecast   \n",
      "1         1:10   Classic Metal Creations   \n",
      "2         1:10  Highway 66 Mini Classics   \n",
      "\n",
      "                                  productDescription  quantityInStock  \\\n",
      "0  This replica features working kickstand, front...             7933   \n",
      "1  Turnable front wheels; steering function; deta...             7305   \n",
      "2  Official Moto Guzzi logos and insignias, saddl...             6625   \n",
      "\n",
      "   buyPrice    MSRP  \n",
      "0     48.81   95.70  \n",
      "1     98.58  214.30  \n",
      "2     68.99  118.94  \n"
     ]
    }
   ],
   "source": [
    "query_products = '''\n",
    "    SELECT *\n",
    "      FROM Products\n",
    "     LIMIT 3\n",
    "'''\n",
    "data_products = pd.read_sql_query(query_products, conn)\n",
    "print(data_products)"
   ]
  },
  {
   "cell_type": "code",
   "execution_count": 318,
   "id": "50540a03",
   "metadata": {},
   "outputs": [
    {
     "name": "stdout",
     "output_type": "stream",
     "text": [
      "    productLine                                    textDescription  \\\n",
      "0  Classic Cars  Attention car enthusiasts: Make your wildest c...   \n",
      "1   Motorcycles  Our motorcycles are state of the art replicas ...   \n",
      "2        Planes  Unique, diecast airplane and helicopter replic...   \n",
      "\n",
      "  htmlDescription image  \n",
      "0            None  None  \n",
      "1            None  None  \n",
      "2            None  None  \n"
     ]
    }
   ],
   "source": [
    "query_product_lines = '''\n",
    "    SELECT *\n",
    "      FROM ProductLines\n",
    "     LIMIT 3\n",
    "'''\n",
    "data_product_lines = pd.read_sql_query(query_product_lines, conn)\n",
    "print(data_product_lines)"
   ]
  },
  {
   "cell_type": "code",
   "execution_count": 319,
   "id": "e1b522a7",
   "metadata": {},
   "outputs": [
    {
     "name": "stdout",
     "output_type": "stream",
     "text": [
      "   orderNumber   orderDate requiredDate shippedDate   status  \\\n",
      "0        10100  2003-01-06   2003-01-13  2003-01-10  Shipped   \n",
      "1        10101  2003-01-09   2003-01-18  2003-01-11  Shipped   \n",
      "2        10102  2003-01-10   2003-01-18  2003-01-14  Shipped   \n",
      "\n",
      "                 comments  customerNumber  \n",
      "0                    None             363  \n",
      "1  Check on availability.             128  \n",
      "2                    None             181  \n"
     ]
    }
   ],
   "source": [
    "query_orders = '''\n",
    "    SELECT *\n",
    "      FROM Orders\n",
    "     LIMIT 3\n",
    "'''\n",
    "data_orders = pd.read_sql_query(query_orders, conn)\n",
    "print(data_orders)"
   ]
  },
  {
   "cell_type": "code",
   "execution_count": 320,
   "id": "af294cac",
   "metadata": {},
   "outputs": [
    {
     "name": "stdout",
     "output_type": "stream",
     "text": [
      "   orderNumber productCode  quantityOrdered  priceEach  orderLineNumber\n",
      "0        10100    S18_1749               30     136.00                3\n",
      "1        10100    S18_2248               50      55.09                2\n",
      "2        10100    S18_4409               22      75.46                4\n"
     ]
    }
   ],
   "source": [
    "query_order_details = '''\n",
    "    SELECT *\n",
    "      FROM OrderDetails\n",
    "     LIMIT 3\n",
    "'''\n",
    "data_order_details = pd.read_sql_query(query_order_details, conn)\n",
    "print(data_order_details)"
   ]
  },
  {
   "cell_type": "code",
   "execution_count": 321,
   "id": "7f9fd265",
   "metadata": {},
   "outputs": [
    {
     "name": "stdout",
     "output_type": "stream",
     "text": [
      "   customerNumber                customerName contactLastName  \\\n",
      "0             103           Atelier graphique         Schmitt   \n",
      "1             112          Signal Gift Stores            King   \n",
      "2             114  Australian Collectors, Co.        Ferguson   \n",
      "\n",
      "  contactFirstName         phone       addressLine1 addressLine2       city  \\\n",
      "0          Carine     40.32.2555     54, rue Royale         None     Nantes   \n",
      "1             Jean    7025551838    8489 Strong St.         None  Las Vegas   \n",
      "2            Peter  03 9520 4555  636 St Kilda Road      Level 3  Melbourne   \n",
      "\n",
      "      state postalCode    country  salesRepEmployeeNumber  creditLimit  \n",
      "0      None      44000     France                    1370        21000  \n",
      "1        NV      83030        USA                    1166        71800  \n",
      "2  Victoria       3004  Australia                    1611       117300  \n"
     ]
    }
   ],
   "source": [
    "query_payments = '''\n",
    "    SELECT *\n",
    "      FROM Payments\n",
    "     LIMIT 3\n",
    "'''\n",
    "data_payments = pd.read_sql_query(query_payments, conn)\n",
    "print(data_customers)"
   ]
  },
  {
   "cell_type": "code",
   "execution_count": 322,
   "id": "a4736d8e",
   "metadata": {},
   "outputs": [
    {
     "name": "stdout",
     "output_type": "stream",
     "text": [
      "   customerNumber                customerName contactLastName  \\\n",
      "0             103           Atelier graphique         Schmitt   \n",
      "1             112          Signal Gift Stores            King   \n",
      "2             114  Australian Collectors, Co.        Ferguson   \n",
      "\n",
      "  contactFirstName         phone       addressLine1 addressLine2       city  \\\n",
      "0          Carine     40.32.2555     54, rue Royale         None     Nantes   \n",
      "1             Jean    7025551838    8489 Strong St.         None  Las Vegas   \n",
      "2            Peter  03 9520 4555  636 St Kilda Road      Level 3  Melbourne   \n",
      "\n",
      "      state postalCode    country  salesRepEmployeeNumber  creditLimit  \n",
      "0      None      44000     France                    1370        21000  \n",
      "1        NV      83030        USA                    1166        71800  \n",
      "2  Victoria       3004  Australia                    1611       117300  \n"
     ]
    }
   ],
   "source": [
    "query_customers = '''\n",
    "    SELECT *\n",
    "      FROM Customers\n",
    "     LIMIT 3\n",
    "'''\n",
    "data_customers = pd.read_sql_query(query_customers, conn)\n",
    "print(data_customers)"
   ]
  },
  {
   "cell_type": "code",
   "execution_count": 323,
   "id": "38b88227",
   "metadata": {},
   "outputs": [
    {
     "name": "stdout",
     "output_type": "stream",
     "text": [
      "   employeeNumber   lastName firstName extension  \\\n",
      "0            1002     Murphy     Diane     x5800   \n",
      "1            1056  Patterson      Mary     x4611   \n",
      "2            1076   Firrelli      Jeff     x9273   \n",
      "\n",
      "                            email officeCode  reportsTo      jobTitle  \n",
      "0    dmurphy@classicmodelcars.com          1        NaN     President  \n",
      "1  mpatterso@classicmodelcars.com          1     1002.0      VP Sales  \n",
      "2  jfirrelli@classicmodelcars.com          1     1002.0  VP Marketing  \n"
     ]
    }
   ],
   "source": [
    "query_employees = '''\n",
    "    SELECT *\n",
    "      FROM Employees\n",
    "     LIMIT 3\n",
    "'''\n",
    "data_employees = pd.read_sql_query(query_employees, conn)\n",
    "print(data_employees)"
   ]
  },
  {
   "cell_type": "code",
   "execution_count": 324,
   "id": "4c57373e",
   "metadata": {},
   "outputs": [
    {
     "name": "stdout",
     "output_type": "stream",
     "text": [
      "  officeCode           city            phone          addressLine1  \\\n",
      "0          1  San Francisco  +1 650 219 4782     100 Market Street   \n",
      "1          2         Boston  +1 215 837 0825      1550 Court Place   \n",
      "2          3            NYC  +1 212 555 3000  523 East 53rd Street   \n",
      "\n",
      "  addressLine2 state country postalCode territory  \n",
      "0    Suite 300    CA     USA      94080        NA  \n",
      "1    Suite 102    MA     USA      02107        NA  \n",
      "2      apt. 5A    NY     USA      10022        NA  \n"
     ]
    }
   ],
   "source": [
    "query_offices = '''\n",
    "    SELECT *\n",
    "      FROM Offices\n",
    "     LIMIT 3\n",
    "'''\n",
    "data_offices = pd.read_sql_query(query_offices, conn)\n",
    "print(data_offices)"
   ]
  },
  {
   "cell_type": "markdown",
   "id": "3c127422",
   "metadata": {},
   "source": [
    "The following query will find products with low stock, but high performace in terms of revenue to determine what product categories should be prioritized for restocking. "
   ]
  },
  {
   "cell_type": "code",
   "execution_count": 325,
   "id": "6f8381b9",
   "metadata": {},
   "outputs": [
    {
     "name": "stdout",
     "output_type": "stream",
     "text": [
      "                productName   productLine\n",
      "0         1968 Ford Mustang  Classic Cars\n",
      "1        1911 Ford Town Car  Vintage Cars\n",
      "2    1928 Mercedes-Benz SSK  Vintage Cars\n",
      "3  1960 BSA Gold Star DBD34   Motorcycles\n",
      "4          1997 BMW F650 ST   Motorcycles\n",
      "5  1928 Ford Phaeton Deluxe  Vintage Cars\n",
      "6        2002 Yamaha YZR M1   Motorcycles\n",
      "7             The Mayflower         Ships\n",
      "8        F/A 18 Hornet 1/72        Planes\n",
      "9                Pont Yacht         Ships\n"
     ]
    }
   ],
   "source": [
    "query_low_stock = '''\n",
    "WITH \n",
    "low_stock_table AS (\n",
    "SELECT productCode, \n",
    "       ROUND(SUM(quantityOrdered) * 1.0/(SELECT quantityInStock\n",
    "                                           FROM products\n",
    "                                          WHERE orderdetails.productCode = products.productCode), 2) AS low_stock\n",
    "  FROM orderdetails\n",
    " GROUP BY productCode\n",
    " ORDER BY low_stock DESC\n",
    " LIMIT 10\n",
    "),\n",
    "\n",
    "products_to_restock AS (\n",
    "SELECT productCode, \n",
    "       SUM(quantityOrdered * priceEach) AS prod_perf\n",
    "  FROM orderdetails\n",
    " WHERE productCode IN (SELECT productCode\n",
    "                         FROM low_stock_table)\n",
    " GROUP BY productCode \n",
    " ORDER BY prod_perf DESC\n",
    " LIMIT 10\n",
    ")\n",
    "    \n",
    "SELECT productName, productLine\n",
    "  FROM products\n",
    " WHERE productCode IN (SELECT productCode\n",
    "                         FROM products_to_restock)\n",
    "'''\n",
    "low_stock_prod = pd.read_sql_query(query_low_stock, conn)\n",
    "print(low_stock_prod)"
   ]
  },
  {
   "cell_type": "markdown",
   "id": "c8935357",
   "metadata": {},
   "source": [
    "Vintage cars and motorcycles should be prioritized for restocking because among the ten products with the lowest stock, they perform best. "
   ]
  },
  {
   "cell_type": "markdown",
   "id": "152ffe5f",
   "metadata": {},
   "source": [
    "Next I'll find the ten most and ten least engaged customers in order to evaluate the market and potential marketing strategies. "
   ]
  },
  {
   "cell_type": "code",
   "execution_count": 326,
   "id": "f7b6543a",
   "metadata": {},
   "outputs": [
    {
     "name": "stdout",
     "output_type": "stream",
     "text": [
      "  contactLastName contactFirstName        city      country     profit\n",
      "0          Freyre           Diego       Madrid        Spain  326519.66\n",
      "1          Nelson            Susan  San Rafael          USA  236769.39\n",
      "2           Young             Jeff         NYC          USA   72370.09\n",
      "3        Ferguson            Peter   Melbourne    Australia   70311.07\n",
      "4         Labrune          Janine       Nantes       France   60875.30\n",
      "5       Natividad             Eric   Singapore    Singapore   60477.38\n",
      "6        Ashworth           Rachel  Manchester           UK   60095.86\n",
      "7          Graham             Mike  Auckland    New Zealand   60013.99\n",
      "8             Lee             Kwai         NYC          USA   58669.10\n",
      "9           Frick              Sue    San Jose          USA   55931.37\n"
     ]
    }
   ],
   "source": [
    "query_VIP = '''\n",
    "WITH \n",
    "profit_per_customer_table AS (\n",
    "SELECT o.customerNumber, SUM(quantityOrdered * (priceEach - buyPrice)) AS profit\n",
    "  FROM products p\n",
    "  JOIN orderdetails od\n",
    "    ON p.productCode = od.productCode\n",
    "  JOIN orders o\n",
    "    ON o.orderNumber = od.orderNumber\n",
    " GROUP BY o.customerNumber\n",
    ")\n",
    "\n",
    "SELECT contactLastName, contactFirstName, city, country, ppc.profit\n",
    "  FROM customers c\n",
    "  JOIN profit_per_customer_table ppc\n",
    "    ON ppc.customerNumber = c.customerNumber\n",
    " ORDER BY ppc.profit DESC\n",
    " LIMIT 10\n",
    "'''\n",
    "VIP = pd.read_sql_query(query_VIP, conn)\n",
    "print(VIP)"
   ]
  },
  {
   "cell_type": "code",
   "execution_count": 327,
   "id": "7c50379e",
   "metadata": {},
   "outputs": [
    {
     "name": "stdout",
     "output_type": "stream",
     "text": [
      "  contactLastName contactFirstName         city  country    profit\n",
      "0           Young             Mary     Glendale      USA   2610.87\n",
      "1          Taylor           Leslie   Brickhaven      USA   6586.02\n",
      "2         Ricotti           Franco        Milan    Italy   9532.93\n",
      "3         Schmitt          Carine        Nantes   France  10063.80\n",
      "4           Smith          Thomas        London       UK  10868.04\n",
      "5        Cartrain         Pascale     Charleroi  Belgium  11693.99\n",
      "6     Donnermeyer          Michael       Munich  Germany  13033.35\n",
      "7            Choi               Yu          NYC      USA  13066.02\n",
      "8           Tseng            Jerry    Cambridge      USA  13734.70\n",
      "9        Chandler            Brian  Los Angeles      USA  14928.37\n"
     ]
    }
   ],
   "source": [
    "query_least_engaged = '''\n",
    "WITH \n",
    "profit_per_customer_table AS (\n",
    "SELECT o.customerNumber, SUM(quantityOrdered * (priceEach - buyPrice)) AS profit\n",
    "  FROM products p\n",
    "  JOIN orderdetails od\n",
    "    ON p.productCode = od.productCode\n",
    "  JOIN orders o\n",
    "    ON o.orderNumber = od.orderNumber\n",
    " GROUP BY o.customerNumber\n",
    ")\n",
    "\n",
    "SELECT contactLastName, contactFirstName, city, country, ppc.profit\n",
    "  FROM customers c\n",
    "  JOIN profit_per_customer_table ppc\n",
    "    ON ppc.customerNumber = c.customerNumber\n",
    " ORDER BY ppc.profit ASC\n",
    " LIMIT 10\n",
    "'''\n",
    "least_engaged = pd.read_sql_query(query_least_engaged, conn)\n",
    "print(least_engaged)"
   ]
  },
  {
   "cell_type": "markdown",
   "id": "feda3e7b",
   "metadata": {},
   "source": [
    "The highest spender is from Spain, but there is decent geographic spread with the top ten spenders being from seven different countries. The only country with multiple customers in the top ten in the USA. In term of least engaged customers, customers from six different countries are in the bottom ten. Again, the USA is the only country with several customers represented. This indicates that the USA likely already represents a large share of the customer base which could be further evaluated, but marketing towards other nations may be more worthwhile to grow presence elsewhere. "
   ]
  },
  {
   "cell_type": "code",
   "execution_count": 328,
   "id": "6216dcea",
   "metadata": {},
   "outputs": [
    {
     "name": "stdout",
     "output_type": "stream",
     "text": [
      "       country  total_profit\n",
      "0          USA    1308815.59\n",
      "1        Spain     440004.54\n",
      "2       France     413016.12\n",
      "3    Australia     222207.18\n",
      "4  New Zealand     189506.58\n",
      "5           UK     172964.26\n",
      "6        Italy     144459.86\n",
      "7      Finland     117239.33\n",
      "8    Singapore     101782.55\n",
      "9      Denmark      85629.30\n"
     ]
    }
   ],
   "source": [
    "query_country_profit = '''\n",
    "WITH profit_per_customer AS(\n",
    "SELECT orders.customerNumber, ROUND(SUM(od.quantityOrdered * (od.priceEach - products.buyPrice)),2) AS profit\n",
    "  FROM orders\n",
    "  JOIN orderdetails od\n",
    "    ON orders.orderNumber = od.orderNumber\n",
    "  JOIN products \n",
    "    ON products.productCode = od.productCode\n",
    " GROUP BY orders.customerNumber\n",
    " ORDER BY profit DESC\n",
    "    )\n",
    "\n",
    "SELECT customers.country, ROUND(SUM(ppc.profit),2) As total_profit\n",
    "  FROM customers \n",
    "  JOIN profit_per_customer ppc\n",
    "    ON customers.customerNumber = ppc.customerNumber\n",
    " GROUP BY customers.country\n",
    " ORDER BY total_profit DESC\n",
    " LIMIT 10\n",
    "'''\n",
    "country_profit = pd.read_sql_query(query_country_profit, conn)\n",
    "print(country_profit)"
   ]
  },
  {
   "cell_type": "markdown",
   "id": "0ba5bc5c",
   "metadata": {},
   "source": [
    "As assumed, the USA does bring in the most profit. I would recommend focusing marketing efforts on the UK and Italy because their population is similar (or lower) to that of Spain and France, but brings in less than half as much profit so there is considerable room for growth. "
   ]
  },
  {
   "cell_type": "markdown",
   "id": "c438c6fd",
   "metadata": {},
   "source": [
    "I'll evalute the customer lifetime value next to get an idea of how much can reasonably be spent on marketing. "
   ]
  },
  {
   "cell_type": "code",
   "execution_count": 329,
   "id": "e365cfa2",
   "metadata": {},
   "outputs": [
    {
     "name": "stdout",
     "output_type": "stream",
     "text": [
      "        ltv\n",
      "0  39039.59\n"
     ]
    }
   ],
   "source": [
    "query_LTV = '''\n",
    "WITH \n",
    "profit_per_customer_table AS (\n",
    "SELECT o.customerNumber, SUM(quantityOrdered * (priceEach - buyPrice)) AS profit\n",
    "  FROM products p\n",
    "  JOIN orderdetails od\n",
    "    ON p.productCode = od.productCode\n",
    "  JOIN orders o\n",
    "    ON o.orderNumber = od.orderNumber\n",
    " GROUP BY o.customerNumber\n",
    ")\n",
    "\n",
    "SELECT ROUND(AVG(ppc.profit), 2) AS ltv -- Customer Lifetime Value, average generated by customer\n",
    "  FROM profit_per_customer_table ppc\n",
    "'''\n",
    "LTV = pd.read_sql_query(query_LTV, conn)\n",
    "print(LTV)"
   ]
  },
  {
   "cell_type": "markdown",
   "id": "4cc66e61",
   "metadata": {},
   "source": [
    "$39,039.59 is the average profit generated per customer over their lifetime with this store. This can serve as a guideline for marketing efforts once cost for different ads is determined.  "
   ]
  },
  {
   "cell_type": "code",
   "execution_count": 330,
   "id": "832bd362",
   "metadata": {},
   "outputs": [],
   "source": [
    "conn.close()"
   ]
  },
  {
   "cell_type": "markdown",
   "id": "3a621919",
   "metadata": {},
   "source": [
    "## Conclusion"
   ]
  },
  {
   "cell_type": "markdown",
   "id": "a05be3e6",
   "metadata": {},
   "source": [
    "Circling back to the stakeholders questions<br>Question 1: Which products should we order more of or less of? <br>\n",
    "Question 2: How should we tailor marketing and communication strategies to customer behaviors?<br>\n",
    "Question 3: How much can we spend on acquiring new customers? \n",
    "Answer 1: I would recommend ordering more vintage cars and motorcycles based on the fact that they sell often and perform the best.<br>\n",
    "Answer 2: Marketing and communication strategies should be focused on the UK and Italy where there is a client base, but plenty of room for growth. They should focus on vintage cars and motorcycles to align with the market interest as well as restocking priorities.<br>\n",
    "Answer 3: We can spend a maximum of $39,039.59 acquiring one new customer to break even. Presumably, more than one customer would be acquired per marketing strategy, but I would love to see data from previous marketing efforts to give a more concrete answer.  \n"
   ]
  },
  {
   "cell_type": "code",
   "execution_count": null,
   "id": "33633e06",
   "metadata": {},
   "outputs": [],
   "source": []
  }
 ],
 "metadata": {
  "kernelspec": {
   "display_name": "Python 3 (ipykernel)",
   "language": "python",
   "name": "python3"
  },
  "language_info": {
   "codemirror_mode": {
    "name": "ipython",
    "version": 3
   },
   "file_extension": ".py",
   "mimetype": "text/x-python",
   "name": "python",
   "nbconvert_exporter": "python",
   "pygments_lexer": "ipython3",
   "version": "3.11.7"
  }
 },
 "nbformat": 4,
 "nbformat_minor": 5
}
